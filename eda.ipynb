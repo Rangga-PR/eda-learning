{
 "cells": [
  {
   "cell_type": "markdown",
   "metadata": {},
   "source": [
    "## Import Required Packages"
   ]
  },
  {
   "cell_type": "code",
   "execution_count": null,
   "metadata": {
    "id": "LnoFbR3fGIyL"
   },
   "outputs": [],
   "source": [
    "import pandas as pd\n",
    "import numpy as np\n",
    "import matplotlib.pyplot as plt\n",
    "import seaborn as sns\n",
    "import warnings\n",
    "warnings.filterwarnings(\"ignore\")"
   ]
  },
  {
   "cell_type": "markdown",
   "metadata": {
    "id": "_r8f67qjGIyM"
   },
   "source": [
    "## Loading the Dataset\n"
   ]
  },
  {
   "cell_type": "code",
   "execution_count": null,
   "metadata": {
    "id": "UieX6HBVGIyN"
   },
   "outputs": [],
   "source": [
    "import kagglehub\n",
    "\n",
    "# Download latest version\n",
    "path = kagglehub.dataset_download(\"shashanknecrothapa/ames-housing-dataset\", path=\"AmesHousing.csv\")\n",
    "\n",
    "# load as pandas dataframe\n",
    "df = pd.read_csv(path)"
   ]
  },
  {
   "cell_type": "code",
   "execution_count": null,
   "metadata": {
    "colab": {
     "base_uri": "https://localhost:8080/"
    },
    "id": "2TpezvHJGIyN",
    "outputId": "7a3b5f00-d82d-452a-a3a0-286e6f7d0c1d"
   },
   "outputs": [],
   "source": [
    "# Dataset shape\n",
    "df.shape"
   ]
  },
  {
   "cell_type": "code",
   "execution_count": null,
   "metadata": {
    "colab": {
     "base_uri": "https://localhost:8080/",
     "height": 258
    },
    "id": "_ij_EoH2GIyO",
    "outputId": "549db58f-9c95-478f-8764-f57526b888c1"
   },
   "outputs": [],
   "source": [
    "# Dataset sample\n",
    "df.head()\n"
   ]
  },
  {
   "cell_type": "code",
   "execution_count": null,
   "metadata": {
    "colab": {
     "base_uri": "https://localhost:8080/"
    },
    "id": "IO8wJZUOGIyP",
    "outputId": "be6d7733-722d-46bd-fc39-0b1a97a489ff"
   },
   "outputs": [],
   "source": [
    "# Columns\n",
    "df.columns"
   ]
  },
  {
   "cell_type": "markdown",
   "metadata": {
    "id": "HU4u6QoVGIyP"
   },
   "source": [
    "## Exploratory Analysis Before Cleaning"
   ]
  },
  {
   "cell_type": "code",
   "execution_count": null,
   "metadata": {
    "colab": {
     "base_uri": "https://localhost:8080/"
    },
    "id": "v-goSdrzGIyP",
    "outputId": "6b06bb76-e425-4ebf-950c-7eb96fc7642e"
   },
   "outputs": [],
   "source": [
    "# Info\n",
    "df.info()"
   ]
  },
  {
   "cell_type": "code",
   "execution_count": null,
   "metadata": {
    "colab": {
     "base_uri": "https://localhost:8080/",
     "height": 500
    },
    "id": "O1-mykGzGIyP",
    "outputId": "4a6908a2-4596-4b2f-814a-322f227c59fd"
   },
   "outputs": [],
   "source": [
    "# Are any there missing values?\n",
    "df.isna().any()"
   ]
  },
  {
   "cell_type": "code",
   "execution_count": null,
   "metadata": {
    "colab": {
     "base_uri": "https://localhost:8080/",
     "height": 500
    },
    "id": "WBh020iwGIyP",
    "outputId": "709c4b81-cb2a-4c77-8866-001be3f67176"
   },
   "outputs": [],
   "source": [
    "# How many missing values?\n",
    "df.isna().sum()"
   ]
  },
  {
   "cell_type": "code",
   "execution_count": null,
   "metadata": {
    "colab": {
     "base_uri": "https://localhost:8080/"
    },
    "id": "P0e6DF5GGIyQ",
    "outputId": "397dcc4c-ce70-4b30-e05b-05c338088332"
   },
   "outputs": [],
   "source": [
    "# Sum of missing values per column\n",
    "missing_values = df.isna().sum()\n",
    "\n",
    "# Total number of rows\n",
    "total_rows = len(df)\n",
    "\n",
    "# Proportion of missing values per column\n",
    "missing_value_proportion = missing_values / total_rows\n",
    "print(missing_value_proportion)"
   ]
  },
  {
   "cell_type": "markdown",
   "metadata": {},
   "source": [
    "## Visualizations"
   ]
  },
  {
   "cell_type": "code",
   "execution_count": null,
   "metadata": {},
   "outputs": [],
   "source": [
    "# Histogram showing the distribution of sale price values. \n",
    "# The density line (KDE) helps to understand the shape of the distribution.\n",
    "plt.figure(figsize=(10, 5))\n",
    "sns.histplot(df['SalePrice'], kde=True, bins=30)\n",
    "plt.title('Distribution of Sale Price Values')\n",
    "plt.xlabel('Sale Price')\n",
    "plt.ylabel('Frequency')\n",
    "plt.show()"
   ]
  },
  {
   "cell_type": "code",
   "execution_count": null,
   "metadata": {},
   "outputs": [],
   "source": [
    "# Boxplot provides insight into the distribution of sale price values\n",
    "# highlighting the median, quartiles, and potential outliers.\n",
    "plt.figure(figsize=(10, 3))\n",
    "sns.boxplot(x=df['SalePrice'])\n",
    "plt.title('Sale Price Boxplot')\n",
    "plt.xlabel('Sale Prices')\n",
    "plt.show()"
   ]
  },
  {
   "cell_type": "code",
   "execution_count": null,
   "metadata": {},
   "outputs": [],
   "source": [
    "# A line plot showing how average sale price have varied over time.\n",
    "# helps identify trends or seasonal patterns in the data.\n",
    "plt.figure(figsize=(12, 5))\n",
    "grouped_by_year = df.groupby('Yr Sold', as_index=False).agg({'SalePrice': 'mean'})\n",
    "sns.lineplot(x='Yr Sold', y='SalePrice', data=df)\n",
    "plt.title('Sale Price Values Over Time')\n",
    "plt.xlabel('Year Sold')\n",
    "plt.ylabel('Sale Price')\n",
    "plt.show()"
   ]
  },
  {
   "cell_type": "code",
   "execution_count": null,
   "metadata": {},
   "outputs": [],
   "source": [
    "# A bar chart showing the number of house sold by house style.\n",
    "# This can be useful for understanding the prevalence of certain house style in transactions.\n",
    "plt.figure(figsize=(10, 5))\n",
    "sns.countplot(x='House Style', data=df)\n",
    "plt.title('Count of House Sold by Style')\n",
    "plt.xlabel('Style')\n",
    "plt.ylabel('Count')\n",
    "plt.show()"
   ]
  }
 ],
 "metadata": {
  "colab": {
   "provenance": []
  },
  "kernelspec": {
   "display_name": ".venv",
   "language": "python",
   "name": "python3"
  },
  "language_info": {
   "codemirror_mode": {
    "name": "ipython",
    "version": 3
   },
   "file_extension": ".py",
   "mimetype": "text/x-python",
   "name": "python",
   "nbconvert_exporter": "python",
   "pygments_lexer": "ipython3",
   "version": "3.13.0"
  }
 },
 "nbformat": 4,
 "nbformat_minor": 0
}
