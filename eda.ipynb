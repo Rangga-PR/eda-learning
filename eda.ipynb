{
 "cells": [
  {
   "cell_type": "markdown",
   "metadata": {},
   "source": [
    "## Import Required Packages"
   ]
  },
  {
   "cell_type": "code",
   "execution_count": 2,
   "metadata": {
    "id": "LnoFbR3fGIyL"
   },
   "outputs": [],
   "source": [
    "import pandas as pd\n",
    "import numpy as np\n",
    "import matplotlib.pyplot as plt\n",
    "import seaborn as sns\n",
    "import warnings\n",
    "warnings.filterwarnings(\"ignore\")"
   ]
  },
  {
   "cell_type": "markdown",
   "metadata": {
    "id": "_r8f67qjGIyM"
   },
   "source": [
    "## Loading the Dataset\n"
   ]
  },
  {
   "cell_type": "code",
   "execution_count": 3,
   "metadata": {
    "id": "UieX6HBVGIyN"
   },
   "outputs": [],
   "source": [
    "import kagglehub\n",
    "\n",
    "# Download latest version\n",
    "path = kagglehub.dataset_download(\"shashanknecrothapa/ames-housing-dataset\", path=\"AmesHousing.csv\")\n",
    "\n",
    "# load as pandas dataframe\n",
    "df = pd.read_csv(path)"
   ]
  },
  {
   "cell_type": "code",
   "execution_count": null,
   "metadata": {
    "colab": {
     "base_uri": "https://localhost:8080/"
    },
    "id": "2TpezvHJGIyN",
    "outputId": "7a3b5f00-d82d-452a-a3a0-286e6f7d0c1d"
   },
   "outputs": [],
   "source": [
    "# Dataset shape\n",
    "df.shape"
   ]
  },
  {
   "cell_type": "code",
   "execution_count": null,
   "metadata": {
    "colab": {
     "base_uri": "https://localhost:8080/",
     "height": 258
    },
    "id": "_ij_EoH2GIyO",
    "outputId": "549db58f-9c95-478f-8764-f57526b888c1"
   },
   "outputs": [],
   "source": [
    "# Dataset sample\n",
    "df.head()\n"
   ]
  },
  {
   "cell_type": "code",
   "execution_count": null,
   "metadata": {
    "colab": {
     "base_uri": "https://localhost:8080/"
    },
    "id": "IO8wJZUOGIyP",
    "outputId": "be6d7733-722d-46bd-fc39-0b1a97a489ff"
   },
   "outputs": [],
   "source": [
    "# Columns\n",
    "df.columns"
   ]
  },
  {
   "cell_type": "markdown",
   "metadata": {
    "id": "HU4u6QoVGIyP"
   },
   "source": [
    "## Exploratory Analysis Before Cleaning"
   ]
  },
  {
   "cell_type": "code",
   "execution_count": null,
   "metadata": {
    "colab": {
     "base_uri": "https://localhost:8080/"
    },
    "id": "v-goSdrzGIyP",
    "outputId": "6b06bb76-e425-4ebf-950c-7eb96fc7642e"
   },
   "outputs": [],
   "source": [
    "# Info\n",
    "df.info()"
   ]
  },
  {
   "cell_type": "code",
   "execution_count": null,
   "metadata": {
    "colab": {
     "base_uri": "https://localhost:8080/",
     "height": 500
    },
    "id": "O1-mykGzGIyP",
    "outputId": "4a6908a2-4596-4b2f-814a-322f227c59fd"
   },
   "outputs": [],
   "source": [
    "# Are any there missing values?\n",
    "df.isna().any()"
   ]
  },
  {
   "cell_type": "code",
   "execution_count": null,
   "metadata": {
    "colab": {
     "base_uri": "https://localhost:8080/",
     "height": 500
    },
    "id": "WBh020iwGIyP",
    "outputId": "709c4b81-cb2a-4c77-8866-001be3f67176"
   },
   "outputs": [],
   "source": [
    "# How many missing values?\n",
    "df.isna().sum()"
   ]
  },
  {
   "cell_type": "code",
   "execution_count": null,
   "metadata": {
    "colab": {
     "base_uri": "https://localhost:8080/"
    },
    "id": "P0e6DF5GGIyQ",
    "outputId": "397dcc4c-ce70-4b30-e05b-05c338088332"
   },
   "outputs": [],
   "source": [
    "# Sum of missing values per column\n",
    "missing_values = df.isna().sum()\n",
    "\n",
    "# Total number of rows\n",
    "total_rows = len(df)\n",
    "\n",
    "# Proportion of missing values per column\n",
    "missing_value_proportion = missing_values / total_rows\n",
    "print(missing_value_proportion)"
   ]
  },
  {
   "cell_type": "markdown",
   "metadata": {},
   "source": [
    "## Visualizations"
   ]
  },
  {
   "cell_type": "code",
   "execution_count": null,
   "metadata": {},
   "outputs": [],
   "source": [
    "# Histogram showing the distribution of sale price values. \n",
    "# The density line (KDE) helps to understand the shape of the distribution.\n",
    "plt.figure(figsize=(10, 5))\n",
    "sns.histplot(df['SalePrice'], kde=True, bins=30)\n",
    "plt.title('Distribution of Sale Price Values')\n",
    "plt.xlabel('Sale Price')\n",
    "plt.ylabel('Frequency')\n",
    "plt.show()"
   ]
  },
  {
   "cell_type": "code",
   "execution_count": null,
   "metadata": {},
   "outputs": [],
   "source": [
    "# Boxplot provides insight into the distribution of sale price values\n",
    "# highlighting the median, quartiles, and potential outliers.\n",
    "plt.figure(figsize=(10, 3))\n",
    "sns.boxplot(x=df['SalePrice'])\n",
    "plt.title('Sale Price Boxplot')\n",
    "plt.xlabel('Sale Prices')\n",
    "plt.show()"
   ]
  },
  {
   "cell_type": "code",
   "execution_count": null,
   "metadata": {},
   "outputs": [],
   "source": [
    "# A line plot showing how average sale price have varied over time.\n",
    "# helps identify trends or seasonal patterns in the data.\n",
    "plt.figure(figsize=(12, 5))\n",
    "grouped_by_year = df.groupby('Yr Sold', as_index=False).agg({'SalePrice': 'mean'})\n",
    "sns.lineplot(x='Yr Sold', y='SalePrice', data=df)\n",
    "plt.title('Sale Price Values Over Time')\n",
    "plt.xlabel('Year Sold')\n",
    "plt.ylabel('Sale Price')\n",
    "plt.show()"
   ]
  },
  {
   "cell_type": "code",
   "execution_count": null,
   "metadata": {},
   "outputs": [],
   "source": [
    "# A bar chart showing the number of house sold by house style.\n",
    "# This can be useful for understanding the prevalence of certain house style in transactions.\n",
    "plt.figure(figsize=(10, 5))\n",
    "sns.countplot(x='House Style', data=df)\n",
    "plt.title('Count of House Sold by Style')\n",
    "plt.xlabel('Style')\n",
    "plt.ylabel('Count')\n",
    "plt.show()"
   ]
  },
  {
   "cell_type": "markdown",
   "metadata": {},
   "source": [
    "## Handling Missing Values"
   ]
  },
  {
   "cell_type": "markdown",
   "metadata": {},
   "source": [
    "**1. Handling Missing Values for Numeric Variables**\n",
    "\n",
    "For numeric variables, a common approach is to replace missing values with the mean or median of the column. The choice between mean or median typically depends on the data distribution."
   ]
  },
  {
   "cell_type": "code",
   "execution_count": null,
   "metadata": {},
   "outputs": [],
   "source": [
    "# any missing lot frontage values?\n",
    "df['Lot Frontage'].isna().sum()"
   ]
  },
  {
   "cell_type": "code",
   "execution_count": null,
   "metadata": {},
   "outputs": [],
   "source": [
    "# Distribution of frontage Values\n",
    "plt.figure(figsize=(10, 5))\n",
    "sns.histplot(df['Lot Frontage'], kde=True, bins=30)\n",
    "plt.title('Distribution of Lot Frontage Values')\n",
    "plt.xlabel('Value')\n",
    "plt.ylabel('Frequency')\n",
    "plt.show()"
   ]
  },
  {
   "cell_type": "code",
   "execution_count": null,
   "metadata": {},
   "outputs": [],
   "source": [
    "# Lot Frontage values mean\n",
    "df['Lot Frontage'].mean()"
   ]
  },
  {
   "cell_type": "code",
   "execution_count": null,
   "metadata": {},
   "outputs": [],
   "source": [
    "# Lot Frontage values median\n",
    "df['Lot Frontage'].median()"
   ]
  },
  {
   "cell_type": "code",
   "execution_count": 19,
   "metadata": {},
   "outputs": [],
   "source": [
    "# Replace missing values with the median\n",
    "df['Lot Frontage'].fillna(df['Lot Frontage'].median(), inplace=True)"
   ]
  },
  {
   "cell_type": "code",
   "execution_count": null,
   "metadata": {},
   "outputs": [],
   "source": [
    "# any missing lot frontage values?\n",
    "df['Lot Frontage'].isna().sum()"
   ]
  },
  {
   "cell_type": "markdown",
   "metadata": {},
   "source": [
    "**2. Handling Missing Values for Categorical Variables**\n",
    "\n",
    "For categorical variables, replace missing values with the most frequent value (mode) or categorize them as 'Unknown'.\n"
   ]
  },
  {
   "cell_type": "code",
   "execution_count": null,
   "metadata": {},
   "outputs": [],
   "source": [
    "# Any missing values in Fence?\n",
    "df['Fence'].isna().sum()"
   ]
  },
  {
   "cell_type": "code",
   "execution_count": null,
   "metadata": {},
   "outputs": [],
   "source": [
    "# Calculate the mode\n",
    "df['Fence'].mode()[0]"
   ]
  },
  {
   "cell_type": "code",
   "execution_count": 23,
   "metadata": {},
   "outputs": [],
   "source": [
    "# Replace missing values in Fence with the mode\n",
    "df['Fence'].fillna(df['Fence'].mode()[0], inplace=True)"
   ]
  },
  {
   "cell_type": "code",
   "execution_count": null,
   "metadata": {},
   "outputs": [],
   "source": [
    "# Any missing values in Fence?\n",
    "df['Fence'].isna().sum()"
   ]
  },
  {
   "cell_type": "code",
   "execution_count": null,
   "metadata": {},
   "outputs": [],
   "source": [
    "# Any missing values in Misc Feature?\n",
    "df['Misc Feature'].isna().sum()"
   ]
  },
  {
   "cell_type": "code",
   "execution_count": 26,
   "metadata": {},
   "outputs": [],
   "source": [
    "# Filling missing values with the category 'Other'\n",
    "df['Misc Feature'].fillna('Other', inplace=True)"
   ]
  },
  {
   "cell_type": "code",
   "execution_count": null,
   "metadata": {},
   "outputs": [],
   "source": [
    "# Any missing values in Misc Feature?\n",
    "df['Misc Feature'].isna().sum()"
   ]
  },
  {
   "cell_type": "code",
   "execution_count": null,
   "metadata": {},
   "outputs": [],
   "source": [
    "# Any missing values in Alley?\n",
    "df['Alley'].isna().sum()"
   ]
  },
  {
   "cell_type": "code",
   "execution_count": 29,
   "metadata": {},
   "outputs": [],
   "source": [
    "# Filling missing values in with bfill (backward fill)\n",
    "# This method fills each missing value with the next valid value in the same column\n",
    "df['Alley'].fillna(method='bfill', inplace=True)"
   ]
  },
  {
   "cell_type": "code",
   "execution_count": 30,
   "metadata": {},
   "outputs": [],
   "source": [
    "# Filling missing values in with bfill (backward fill)\n",
    "# This method fills each missing by propagating the last valid value observation to next valid value\n",
    "df['Alley'].fillna(method='bfill', inplace=True)"
   ]
  },
  {
   "cell_type": "code",
   "execution_count": null,
   "metadata": {},
   "outputs": [],
   "source": [
    "# Any missing values in Alley?\n",
    "df['Alley'].isna().sum()"
   ]
  },
  {
   "cell_type": "markdown",
   "metadata": {},
   "source": [
    "## Outlier Treatment\n"
   ]
  },
  {
   "cell_type": "markdown",
   "metadata": {},
   "source": [
    "Why?\n",
    "1. Outliers distort essential statistical metrics like the mean and standard deviation, leading to inaccurate summaries of the data.\n",
    "2. In predictive modeling, outliers can influence model parameters, leading to poor generalization.\n",
    "3. Outliers may result in a loss of valuable information\n"
   ]
  },
  {
   "cell_type": "code",
   "execution_count": null,
   "metadata": {},
   "outputs": [],
   "source": [
    "# Boxplot of Sale Price values\n",
    "plt.figure(figsize=(8, 5))\n",
    "sns.boxplot(x=df['SalePrice'])\n",
    "plt.title('Boxplot of Sale Price values')\n",
    "plt.xlabel('Values')\n",
    "plt.show()"
   ]
  },
  {
   "cell_type": "code",
   "execution_count": 33,
   "metadata": {},
   "outputs": [],
   "source": [
    "# Outlier treatment for the Sale Price variable with IQR\n",
    "# The IQR is the range between the 25th and 75th percentiles of the data.\n",
    "# Data points beyond 1.5 times the IQR are considered outliers.\n",
    "\n",
    "# Calculating Q1 and Q3\n",
    "Q1 = df['SalePrice'].quantile(0.25)\n",
    "Q3 = df['SalePrice'].quantile(0.75)\n",
    "\n",
    "# Calculating IQR\n",
    "IQR = Q3 - Q1\n",
    "\n",
    "# Setting limits to identify outliers\n",
    "lower_limit = Q1 - 1.5 * IQR\n",
    "upper_limit = Q3 + 1.5 * IQR\n",
    "\n",
    "# Filtering out the outliers\n",
    "df_filtered_1 = df[~((df['SalePrice'] < lower_limit) | (df['SalePrice'] > upper_limit))]"
   ]
  },
  {
   "cell_type": "code",
   "execution_count": null,
   "metadata": {},
   "outputs": [],
   "source": [
    "# Boxplot of Sale Price Values after filtering outliers\n",
    "plt.figure(figsize=(8, 5))\n",
    "sns.boxplot(x=df_filtered_1['SalePrice'])\n",
    "plt.title('Boxplot of Sale Price values')\n",
    "plt.xlabel('Values')\n",
    "plt.show()"
   ]
  },
  {
   "cell_type": "code",
   "execution_count": 37,
   "metadata": {},
   "outputs": [],
   "source": [
    "# Outlier treatment for the Sale Price variable with Z-score\n",
    "# The Z-score measures how many standard deviations a data point is from the mean.\n",
    "# Data points with Z-scores above and bellow the threshold are flagged as outliers.\n",
    "# Use when data follow a normal distribution\n",
    "\n",
    "# Set threshold\n",
    "threshold = 3\n",
    "\n",
    "# Setting limits to identify outliers\n",
    "upper_limit = df['SalePrice'].mean() + threshold*df['SalePrice'].std()\n",
    "lower_limit = df['SalePrice'].mean() - threshold*df['SalePrice'].std()\n",
    "\n",
    "# Filtering out the outliers\n",
    "df_filtered_2 = df[~((df['SalePrice'] < lower_limit) | (df['SalePrice'] > upper_limit))]"
   ]
  },
  {
   "cell_type": "code",
   "execution_count": null,
   "metadata": {},
   "outputs": [],
   "source": [
    "# Boxplot of Sale Price Values after filtering outliers\n",
    "plt.figure(figsize=(8, 5))\n",
    "sns.boxplot(x=df_filtered_2['SalePrice'])\n",
    "plt.title('Boxplot of Sale Price values')\n",
    "plt.xlabel('Values')\n",
    "plt.show()"
   ]
  }
 ],
 "metadata": {
  "colab": {
   "provenance": []
  },
  "kernelspec": {
   "display_name": ".venv",
   "language": "python",
   "name": "python3"
  },
  "language_info": {
   "codemirror_mode": {
    "name": "ipython",
    "version": 3
   },
   "file_extension": ".py",
   "mimetype": "text/x-python",
   "name": "python",
   "nbconvert_exporter": "python",
   "pygments_lexer": "ipython3",
   "version": "3.13.0"
  }
 },
 "nbformat": 4,
 "nbformat_minor": 0
}
