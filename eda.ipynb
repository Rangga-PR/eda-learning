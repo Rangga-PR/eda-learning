{
 "cells": [
  {
   "cell_type": "markdown",
   "metadata": {},
   "source": [
    "## Import Required Packages"
   ]
  },
  {
   "cell_type": "code",
   "execution_count": 2,
   "metadata": {
    "id": "LnoFbR3fGIyL"
   },
   "outputs": [],
   "source": [
    "import pandas as pd\n",
    "import numpy as np\n",
    "import matplotlib.pyplot as plt\n",
    "import seaborn as sns\n",
    "import warnings\n",
    "from scipy.stats import skew\n",
    "warnings.filterwarnings(\"ignore\")"
   ]
  },
  {
   "cell_type": "markdown",
   "metadata": {
    "id": "_r8f67qjGIyM"
   },
   "source": [
    "## Loading the Dataset\n"
   ]
  },
  {
   "cell_type": "code",
   "execution_count": null,
   "metadata": {
    "id": "UieX6HBVGIyN"
   },
   "outputs": [],
   "source": [
    "import kagglehub\n",
    "\n",
    "# Download latest version\n",
    "path = kagglehub.dataset_download(\"shashanknecrothapa/ames-housing-dataset\", path=\"AmesHousing.csv\")\n",
    "\n",
    "# load as pandas dataframe\n",
    "df = pd.read_csv(path)"
   ]
  },
  {
   "cell_type": "code",
   "execution_count": null,
   "metadata": {
    "colab": {
     "base_uri": "https://localhost:8080/"
    },
    "id": "2TpezvHJGIyN",
    "outputId": "7a3b5f00-d82d-452a-a3a0-286e6f7d0c1d"
   },
   "outputs": [],
   "source": [
    "# Dataset shape\n",
    "df.shape"
   ]
  },
  {
   "cell_type": "code",
   "execution_count": null,
   "metadata": {
    "colab": {
     "base_uri": "https://localhost:8080/",
     "height": 258
    },
    "id": "_ij_EoH2GIyO",
    "outputId": "549db58f-9c95-478f-8764-f57526b888c1"
   },
   "outputs": [],
   "source": [
    "# Dataset sample\n",
    "df.head()\n"
   ]
  },
  {
   "cell_type": "code",
   "execution_count": null,
   "metadata": {
    "colab": {
     "base_uri": "https://localhost:8080/"
    },
    "id": "IO8wJZUOGIyP",
    "outputId": "be6d7733-722d-46bd-fc39-0b1a97a489ff"
   },
   "outputs": [],
   "source": [
    "# Columns\n",
    "df.columns"
   ]
  },
  {
   "cell_type": "markdown",
   "metadata": {
    "id": "HU4u6QoVGIyP"
   },
   "source": [
    "## Exploratory Analysis Before Cleaning"
   ]
  },
  {
   "cell_type": "code",
   "execution_count": null,
   "metadata": {
    "colab": {
     "base_uri": "https://localhost:8080/"
    },
    "id": "v-goSdrzGIyP",
    "outputId": "6b06bb76-e425-4ebf-950c-7eb96fc7642e"
   },
   "outputs": [],
   "source": [
    "# Info\n",
    "df.info()"
   ]
  },
  {
   "cell_type": "code",
   "execution_count": null,
   "metadata": {
    "colab": {
     "base_uri": "https://localhost:8080/",
     "height": 500
    },
    "id": "O1-mykGzGIyP",
    "outputId": "4a6908a2-4596-4b2f-814a-322f227c59fd"
   },
   "outputs": [],
   "source": [
    "# Are any there missing values?\n",
    "df.isna().any()"
   ]
  },
  {
   "cell_type": "code",
   "execution_count": null,
   "metadata": {
    "colab": {
     "base_uri": "https://localhost:8080/",
     "height": 500
    },
    "id": "WBh020iwGIyP",
    "outputId": "709c4b81-cb2a-4c77-8866-001be3f67176"
   },
   "outputs": [],
   "source": [
    "# How many missing values?\n",
    "df.isna().sum()"
   ]
  },
  {
   "cell_type": "code",
   "execution_count": null,
   "metadata": {
    "colab": {
     "base_uri": "https://localhost:8080/"
    },
    "id": "P0e6DF5GGIyQ",
    "outputId": "397dcc4c-ce70-4b30-e05b-05c338088332"
   },
   "outputs": [],
   "source": [
    "# Sum of missing values per column\n",
    "missing_values = df.isna().sum()\n",
    "\n",
    "# Total number of rows\n",
    "total_rows = len(df)\n",
    "\n",
    "# Proportion of missing values per column\n",
    "missing_value_proportion = missing_values / total_rows\n",
    "print(missing_value_proportion)"
   ]
  },
  {
   "cell_type": "markdown",
   "metadata": {},
   "source": [
    "## Visualizations"
   ]
  },
  {
   "cell_type": "code",
   "execution_count": null,
   "metadata": {},
   "outputs": [],
   "source": [
    "# Histogram showing the distribution of sale price values. \n",
    "# The density line (KDE) helps to understand the shape of the distribution.\n",
    "plt.figure(figsize=(10, 5))\n",
    "sns.histplot(df['SalePrice'], kde=True, bins=30)\n",
    "plt.title('Distribution of Sale Price Values')\n",
    "plt.xlabel('Sale Price')\n",
    "plt.ylabel('Frequency')\n",
    "plt.show()"
   ]
  },
  {
   "cell_type": "code",
   "execution_count": null,
   "metadata": {},
   "outputs": [],
   "source": [
    "# Boxplot provides insight into the distribution of sale price values\n",
    "# highlighting the median, quartiles, and potential outliers.\n",
    "plt.figure(figsize=(10, 3))\n",
    "sns.boxplot(x=df['SalePrice'])\n",
    "plt.title('Sale Price Boxplot')\n",
    "plt.xlabel('Sale Prices')\n",
    "plt.show()"
   ]
  },
  {
   "cell_type": "code",
   "execution_count": null,
   "metadata": {},
   "outputs": [],
   "source": [
    "# A line plot showing how average sale price have varied over time.\n",
    "# helps identify trends or seasonal patterns in the data.\n",
    "plt.figure(figsize=(12, 5))\n",
    "grouped_by_year = df.groupby('Yr Sold', as_index=False).agg({'SalePrice': 'mean'})\n",
    "sns.lineplot(x='Yr Sold', y='SalePrice', data=df)\n",
    "plt.title('Sale Price Values Over Time')\n",
    "plt.xlabel('Year Sold')\n",
    "plt.ylabel('Sale Price')\n",
    "plt.show()"
   ]
  },
  {
   "cell_type": "code",
   "execution_count": null,
   "metadata": {},
   "outputs": [],
   "source": [
    "# A bar chart showing the number of house sold by house style.\n",
    "# This can be useful for understanding the prevalence of certain house style in transactions.\n",
    "plt.figure(figsize=(10, 5))\n",
    "sns.countplot(x='House Style', data=df)\n",
    "plt.title('Count of House Sold by Style')\n",
    "plt.xlabel('Style')\n",
    "plt.ylabel('Count')\n",
    "plt.show()"
   ]
  },
  {
   "cell_type": "markdown",
   "metadata": {},
   "source": [
    "## Handling Missing Values"
   ]
  },
  {
   "cell_type": "markdown",
   "metadata": {},
   "source": [
    "**1. Handling Missing Values for Numeric Variables**\n",
    "\n",
    "For numeric variables, a common approach is to replace missing values with the mean or median of the column. The choice between mean or median typically depends on the data distribution."
   ]
  },
  {
   "cell_type": "code",
   "execution_count": null,
   "metadata": {},
   "outputs": [],
   "source": [
    "# any missing lot frontage values?\n",
    "df['Lot Frontage'].isna().sum()"
   ]
  },
  {
   "cell_type": "code",
   "execution_count": null,
   "metadata": {},
   "outputs": [],
   "source": [
    "# Distribution of frontage Values\n",
    "plt.figure(figsize=(10, 5))\n",
    "sns.histplot(df['Lot Frontage'], kde=True, bins=30)\n",
    "plt.title('Distribution of Lot Frontage Values')\n",
    "plt.xlabel('Value')\n",
    "plt.ylabel('Frequency')\n",
    "plt.show()"
   ]
  },
  {
   "cell_type": "code",
   "execution_count": null,
   "metadata": {},
   "outputs": [],
   "source": [
    "# Lot Frontage values mean\n",
    "df['Lot Frontage'].mean()"
   ]
  },
  {
   "cell_type": "code",
   "execution_count": null,
   "metadata": {},
   "outputs": [],
   "source": [
    "# Lot Frontage values median\n",
    "df['Lot Frontage'].median()"
   ]
  },
  {
   "cell_type": "code",
   "execution_count": 19,
   "metadata": {},
   "outputs": [],
   "source": [
    "# Replace missing values with the median\n",
    "df['Lot Frontage'].fillna(df['Lot Frontage'].median(), inplace=True)"
   ]
  },
  {
   "cell_type": "code",
   "execution_count": null,
   "metadata": {},
   "outputs": [],
   "source": [
    "# any missing lot frontage values?\n",
    "df['Lot Frontage'].isna().sum()"
   ]
  },
  {
   "cell_type": "markdown",
   "metadata": {},
   "source": [
    "**2. Handling Missing Values for Categorical Variables**\n",
    "\n",
    "For categorical variables, replace missing values with the most frequent value (mode) or categorize them as 'Unknown'.\n"
   ]
  },
  {
   "cell_type": "code",
   "execution_count": null,
   "metadata": {},
   "outputs": [],
   "source": [
    "# Any missing values in Fence?\n",
    "df['Fence'].isna().sum()"
   ]
  },
  {
   "cell_type": "code",
   "execution_count": null,
   "metadata": {},
   "outputs": [],
   "source": [
    "# Calculate the mode\n",
    "df['Fence'].mode()[0]"
   ]
  },
  {
   "cell_type": "code",
   "execution_count": 23,
   "metadata": {},
   "outputs": [],
   "source": [
    "# Replace missing values in Fence with the mode\n",
    "df['Fence'].fillna(df['Fence'].mode()[0], inplace=True)"
   ]
  },
  {
   "cell_type": "code",
   "execution_count": null,
   "metadata": {},
   "outputs": [],
   "source": [
    "# Any missing values in Fence?\n",
    "df['Fence'].isna().sum()"
   ]
  },
  {
   "cell_type": "code",
   "execution_count": null,
   "metadata": {},
   "outputs": [],
   "source": [
    "# Any missing values in Misc Feature?\n",
    "df['Misc Feature'].isna().sum()"
   ]
  },
  {
   "cell_type": "code",
   "execution_count": 26,
   "metadata": {},
   "outputs": [],
   "source": [
    "# Filling missing values with the category 'Other'\n",
    "df['Misc Feature'].fillna('Other', inplace=True)"
   ]
  },
  {
   "cell_type": "code",
   "execution_count": null,
   "metadata": {},
   "outputs": [],
   "source": [
    "# Any missing values in Misc Feature?\n",
    "df['Misc Feature'].isna().sum()"
   ]
  },
  {
   "cell_type": "code",
   "execution_count": null,
   "metadata": {},
   "outputs": [],
   "source": [
    "# Any missing values in Alley?\n",
    "df['Alley'].isna().sum()"
   ]
  },
  {
   "cell_type": "code",
   "execution_count": 29,
   "metadata": {},
   "outputs": [],
   "source": [
    "# Filling missing values in with bfill (backward fill)\n",
    "# This method fills each missing value with the next valid value in the same column\n",
    "df['Alley'].fillna(method='bfill', inplace=True)"
   ]
  },
  {
   "cell_type": "code",
   "execution_count": 30,
   "metadata": {},
   "outputs": [],
   "source": [
    "# Filling missing values in with bfill (backward fill)\n",
    "# This method fills each missing by propagating the last valid value observation to next valid value\n",
    "df['Alley'].fillna(method='bfill', inplace=True)"
   ]
  },
  {
   "cell_type": "code",
   "execution_count": null,
   "metadata": {},
   "outputs": [],
   "source": [
    "# Any missing values in Alley?\n",
    "df['Alley'].isna().sum()"
   ]
  },
  {
   "cell_type": "markdown",
   "metadata": {},
   "source": [
    "## Outlier Treatment\n"
   ]
  },
  {
   "cell_type": "markdown",
   "metadata": {},
   "source": [
    "Why?\n",
    "1. Outliers distort essential statistical metrics like the mean and standard deviation, leading to inaccurate summaries of the data.\n",
    "2. In predictive modeling, outliers can influence model parameters, leading to poor generalization.\n",
    "3. Outliers may result in a loss of valuable information\n"
   ]
  },
  {
   "cell_type": "code",
   "execution_count": null,
   "metadata": {},
   "outputs": [],
   "source": [
    "# Boxplot of Sale Price values\n",
    "plt.figure(figsize=(8, 5))\n",
    "sns.boxplot(x=df['SalePrice'])\n",
    "plt.title('Boxplot of Sale Price values')\n",
    "plt.xlabel('Values')\n",
    "plt.show()"
   ]
  },
  {
   "cell_type": "code",
   "execution_count": 33,
   "metadata": {},
   "outputs": [],
   "source": [
    "# Outlier treatment for the Sale Price variable with IQR\n",
    "# The IQR is the range between the 25th and 75th percentiles of the data.\n",
    "# Data points beyond 1.5 times the IQR are considered outliers.\n",
    "\n",
    "# Calculating Q1 and Q3\n",
    "Q1 = df['SalePrice'].quantile(0.25)\n",
    "Q3 = df['SalePrice'].quantile(0.75)\n",
    "\n",
    "# Calculating IQR\n",
    "IQR = Q3 - Q1\n",
    "\n",
    "# Setting limits to identify outliers\n",
    "lower_limit = Q1 - 1.5 * IQR\n",
    "upper_limit = Q3 + 1.5 * IQR\n",
    "\n",
    "# Filtering out the outliers\n",
    "df_filtered_1 = df[~((df['SalePrice'] < lower_limit) | (df['SalePrice'] > upper_limit))]"
   ]
  },
  {
   "cell_type": "code",
   "execution_count": null,
   "metadata": {},
   "outputs": [],
   "source": [
    "# Boxplot of Sale Price Values after filtering outliers\n",
    "plt.figure(figsize=(8, 5))\n",
    "sns.boxplot(x=df_filtered_1['SalePrice'])\n",
    "plt.title('Boxplot of Sale Price values')\n",
    "plt.xlabel('Values')\n",
    "plt.show()"
   ]
  },
  {
   "cell_type": "code",
   "execution_count": 35,
   "metadata": {},
   "outputs": [],
   "source": [
    "# Outlier treatment for the Sale Price variable with Z-score\n",
    "# The Z-score measures how many standard deviations a data point is from the mean.\n",
    "# Data points with Z-scores above and bellow the threshold are flagged as outliers.\n",
    "# Use when data follow a normal distribution\n",
    "\n",
    "# Set threshold\n",
    "threshold = 3\n",
    "\n",
    "# Setting limits to identify outliers\n",
    "upper_limit = df['SalePrice'].mean() + threshold*df['SalePrice'].std()\n",
    "lower_limit = df['SalePrice'].mean() - threshold*df['SalePrice'].std()\n",
    "\n",
    "# Filtering out the outliers\n",
    "df_filtered_2 = df[~((df['SalePrice'] < lower_limit) | (df['SalePrice'] > upper_limit))]"
   ]
  },
  {
   "cell_type": "code",
   "execution_count": null,
   "metadata": {},
   "outputs": [],
   "source": [
    "# Boxplot of Sale Price Values after filtering outliers\n",
    "plt.figure(figsize=(8, 5))\n",
    "sns.boxplot(x=df_filtered_2['SalePrice'])\n",
    "plt.title('Boxplot of Sale Price values')\n",
    "plt.xlabel('Values')\n",
    "plt.show()"
   ]
  },
  {
   "cell_type": "markdown",
   "metadata": {},
   "source": [
    "## Exploratory Analysis After Cleaning\n",
    "\n",
    "### Univariate Exploratory Analysis\n"
   ]
  },
  {
   "cell_type": "code",
   "execution_count": null,
   "metadata": {},
   "outputs": [],
   "source": [
    "# Dataset info after cleaning\n",
    "df_filtered_1.info()"
   ]
  },
  {
   "cell_type": "code",
   "execution_count": null,
   "metadata": {},
   "outputs": [],
   "source": [
    "sns.set_theme(style=\"whitegrid\")\n",
    "\n",
    "plt.figure(figsize=(10, 6))\n",
    "sns.histplot(df_filtered_1['SalePrice'], kde=True, bins=30)\n",
    "plt.title('Distribution of Sale Price Values')\n",
    "plt.xlabel('Values')\n",
    "plt.ylabel('Frequency')\n",
    "plt.show()"
   ]
  },
  {
   "cell_type": "markdown",
   "metadata": {},
   "source": [
    "**Histogram Interpretation**:\n",
    "\n",
    "Interpreting a histogram is essential for understanding the data distribution. A histogram is a chart that shows the frequency with which values in a dataset occur within specific intervals or 'bins'. Here are the steps to interpret it:\n",
    "\n",
    "**1. Observe the Overall Shape**\n",
    "\n",
    "The shape of the histogram can reveal a lot about the nature of the data.\n",
    "\n",
    "Symmetrical Distribution: If the chart is symmetrical around a central value, it indicates a normal or nearly normal distribution.\n",
    "\n",
    "Skewed Distribution: If the tail of the chart extends more to the left or right, it indicates skewness. Skewness to the left indicates negative skewness; skewness to the right indicates positive skewness.\n"
   ]
  },
  {
   "cell_type": "code",
   "execution_count": null,
   "metadata": {},
   "outputs": [],
   "source": [
    "# Calculating skewness\n",
    "skewness = skew(df_filtered_1['SalePrice'])\n",
    "print(f\"The skewness of the distribution of values is: {skewness}\")"
   ]
  },
  {
   "cell_type": "markdown",
   "metadata": {},
   "source": [
    "- A skewness value of zero suggests that the distribution is perfectly symmetrical.\n",
    "- A positive skewness value indicates a distribution with a heavier tail to the right.\n",
    "- A negative skewness value indicates a distribution with a heavier tail to the left.\n"
   ]
  },
  {
   "cell_type": "markdown",
   "metadata": {},
   "source": [
    "**2. Identify Peaks and Valleys**\n",
    "\n",
    "Presence of multiple peaks: This may indicate that the data has multiple groups or modes.\n",
    "\n",
    "Peaks (Modes): The highest points of the histogram are the modes, indicating the most common values in the data.\n",
    "Valleys: These are the areas between peaks, which may indicate a separation between different groups in the data.\n",
    "\n",
    "**3. Check the Bin Width**\n",
    "\n",
    "The width of the intervals (bins) can affect the appearance of the histogram. Very wide bins can hide important details, while very narrow bins can show too much random variation.\n",
    "\n",
    "**4. Observe Outliers**\n",
    "\n",
    "Outliers may appear as isolated bars distant from the rest of the data, indicating atypical values.\n",
    "\n",
    "**5. Analyze the X and Y Axes**\n",
    "\n",
    "- X-axis (horizontal): Shows the value intervals of the data.\n",
    "- Y-axis (vertical): Shows the frequency or count of occurrences in each bin."
   ]
  },
  {
   "cell_type": "code",
   "execution_count": null,
   "metadata": {},
   "outputs": [],
   "source": [
    "plt.figure(figsize=(8, 5))\n",
    "sns.boxplot(x=df_filtered_1['SalePrice'])\n",
    "plt.title('Boxplot of Sale Price Values')\n",
    "plt.xlabel('Values')\n",
    "plt.show()"
   ]
  },
  {
   "cell_type": "markdown",
   "metadata": {},
   "source": [
    "**Boxplot Interpretation:**\n",
    "\n",
    "Interpreting a boxplot, also known as a box-and-whisker plot, is essential to understand the data’s distribution, central tendency, and variability. The boxplot provides a concise visual representation that highlights the quartiles and outliers within the data. Here are the main components of a boxplot and how to interpret them:\n",
    "\n",
    "**1. Quartiles**\n",
    "\n",
    "The boxplot is divided into quartiles:\n",
    "\n",
    "- **Q1 (First Quartile):** Represents the value below which 25% of the data lies.\n",
    "- **Q2 (Median):** Divides the data in half, with 50% of values below and 50% above it.\n",
    "- **Q3 (Third Quartile):** Represents the value below which 75% of the data lies.\n",
    "\n",
    "**2. Interquartile Range (IQR)**\n",
    "\n",
    "The **IQR** is the distance between Q1 and Q3. It represents the range of the central 50% of the data. A larger IQR indicates greater spread within this central portion.\n",
    "\n",
    "**3. Whiskers**\n",
    "\n",
    "The \"whiskers\" extend from Q1 and Q3 to show the variation outside the central 50%. Typically, they extend up to 1.5 * IQR above Q3 and below Q1.\n",
    "\n",
    "Data points beyond the whiskers are considered potential outliers.\n",
    "\n",
    "**4. Outliers**\n",
    "\n",
    "Outliers are data points that fall outside the whiskers. These are often represented as individual dots or circles on the plot.\n",
    "\n",
    "**5. Symmetry**\n",
    "\n",
    "If the median is centered within the box and the whiskers are similar in length, the data is more symmetrical.\n",
    "\n",
    "If the median is closer to Q1 or Q3, or if one whisker is significantly longer, the data is skewed.\n",
    "\n",
    "A longer box indicates greater variability in the central data. The presence of outliers may suggest extreme variations or issues with the data."
   ]
  },
  {
   "cell_type": "markdown",
   "metadata": {},
   "source": [
    "### Multivariate Exploratory Analysis"
   ]
  },
  {
   "cell_type": "markdown",
   "metadata": {},
   "source": [
    "### Analyzing and Interpreting Correlation Maps"
   ]
  },
  {
   "cell_type": "code",
   "execution_count": null,
   "metadata": {},
   "outputs": [],
   "source": [
    "# Display the first few rows of the filtered dataset\n",
    "df_filtered_1.head()"
   ]
  },
  {
   "cell_type": "code",
   "execution_count": null,
   "metadata": {},
   "outputs": [],
   "source": [
    "# Display information about the filtered dataset\n",
    "df_filtered_1.info()"
   ]
  },
  {
   "cell_type": "code",
   "execution_count": null,
   "metadata": {},
   "outputs": [],
   "source": [
    "# Calculating the correlation between SalePrice and Lot Area\n",
    "correlation_matrix = df_filtered_1[['SalePrice', 'Lot Area']].corr()\n",
    "\n",
    "# Creating the heatmap\n",
    "plt.figure(figsize=(8, 6))\n",
    "sns.heatmap(correlation_matrix, annot=True, cmap='coolwarm', fmt=\".2f\")\n",
    "plt.title(\"Correlation Heatmap\")\n",
    "plt.show()"
   ]
  },
  {
   "cell_type": "markdown",
   "metadata": {},
   "source": [
    "**The Correlation Map (or Heatmap)** is a visual tool used to represent the strength and direction of the correlation between two or more variables. Here’s how to interpret it:\n",
    "\n",
    "**Values in the Matrix:**\n",
    "\n",
    "Each cell in the matrix shows the correlation coefficient between two variables. The correlation coefficient ranges from -1 to 1.\n",
    "\n",
    "- **1** indicates a perfect positive correlation (when one variable increases, the other also increases).\n",
    "- **-1** indicates a perfect negative correlation (when one variable increases, the other decreases).\n",
    "- **0** indicates no correlation (the variables have no linear relationship).\n",
    "\n",
    "**Colors:**\n",
    "\n",
    "The colors represent the strength of the correlation, usually following a gradient.\n",
    "\n",
    "**Interpretation:**\n",
    "\n",
    "- **Strong Positive Correlation (values close to 1):** When one variable increases, the other also tends to increase. For example, in sales data, there may be a strong positive correlation between advertising spending and revenue.\n",
    "- **Strong Negative Correlation (values close to -1):** When one variable increases, the other tends to decrease. For example, in health data, there may be a strong negative correlation between exercise quantity and body weight.\n",
    "- **Weak or No Correlation (values close to 0):** The variables have no clear linear relationship. One variable does not reliably predict the other.\n",
    "\n",
    "**Considerations:**\n",
    "\n",
    "Correlation does not imply causation. Even if two variables are strongly correlated, it does not mean one causes the other. Other factors may influence the variables. Therefore, more in-depth analyses, such as causality analysis, may be necessary to understand relationships between variables."
   ]
  },
  {
   "cell_type": "markdown",
   "metadata": {},
   "source": [
    "### Analyzing and Interpreting Scatter Plots"
   ]
  },
  {
   "cell_type": "code",
   "execution_count": null,
   "metadata": {},
   "outputs": [],
   "source": [
    "# Creating the scatter plot between SalePrice and Lot Area\n",
    "plt.figure(figsize=(10, 6))\n",
    "sns.scatterplot(x='SalePrice', y='Lot Area', data=df_filtered_1)\n",
    "plt.title('SalePrice vs Lot Area')\n",
    "plt.xlabel('Sale Price')\n",
    "plt.ylabel('Lot Area')\n",
    "plt.show()"
   ]
  },
  {
   "cell_type": "markdown",
   "metadata": {},
   "source": [
    "**Overall Pattern and Direction of Relationship:**\n",
    "\n",
    "- **Positive:** If the points tend to rise from left to right, this indicates a positive correlation; as one variable increases, the other also tends to increase.\n",
    "- **Negative:** If the points tend to fall from left to right, this indicates a negative correlation; as one variable increases, the other tends to decrease.\n",
    "- **No Trend:** If the points are randomly scattered without a clear direction, this suggests little or no linear correlation between the variables.\n",
    "\n",
    "**Strength of Relationship:**\n",
    "\n",
    "- **Strong:** Points close to an imaginary line indicate a strong linear relationship.\n",
    "- **Weak:** Points widely scattered around the line indicate a weaker linear relationship.\n",
    "- **Outliers:** Points that do not follow the general pattern may indicate outliers or anomalies, which may warrant further investigation.\n",
    "\n",
    "**Homoscedasticity vs. Heteroscedasticity:**\n",
    "\n",
    "- **Homoscedasticity:** The spread of points remains consistent along the axis.\n",
    "- **Heteroscedasticity:** The spread of points changes, which may indicate variability differences of one variable in relation to the other."
   ]
  }
 ],
 "metadata": {
  "colab": {
   "provenance": []
  },
  "kernelspec": {
   "display_name": ".venv",
   "language": "python",
   "name": "python3"
  },
  "language_info": {
   "codemirror_mode": {
    "name": "ipython",
    "version": 3
   },
   "file_extension": ".py",
   "mimetype": "text/x-python",
   "name": "python",
   "nbconvert_exporter": "python",
   "pygments_lexer": "ipython3",
   "version": "3.13.0"
  }
 },
 "nbformat": 4,
 "nbformat_minor": 0
}
