{
 "cells": [
  {
   "cell_type": "markdown",
   "metadata": {},
   "source": [
    "## Import Required Packages"
   ]
  },
  {
   "cell_type": "code",
   "execution_count": null,
   "metadata": {
    "id": "LnoFbR3fGIyL"
   },
   "outputs": [],
   "source": [
    "import pandas as pd\n",
    "import numpy as np\n",
    "import matplotlib.pyplot as plt\n",
    "import seaborn as sns\n",
    "import warnings\n",
    "warnings.filterwarnings(\"ignore\")"
   ]
  },
  {
   "cell_type": "markdown",
   "metadata": {
    "id": "_r8f67qjGIyM"
   },
   "source": [
    "## Loading the Dataset\n"
   ]
  },
  {
   "cell_type": "code",
   "execution_count": null,
   "metadata": {
    "id": "UieX6HBVGIyN"
   },
   "outputs": [],
   "source": [
    "import kagglehub\n",
    "\n",
    "# Download latest version\n",
    "path = kagglehub.dataset_download(\"shashanknecrothapa/ames-housing-dataset\", path=\"AmesHousing.csv\")\n",
    "\n",
    "# load as pandas dataframe\n",
    "df = pd.read_csv(path)"
   ]
  },
  {
   "cell_type": "code",
   "execution_count": null,
   "metadata": {
    "colab": {
     "base_uri": "https://localhost:8080/"
    },
    "id": "2TpezvHJGIyN",
    "outputId": "7a3b5f00-d82d-452a-a3a0-286e6f7d0c1d"
   },
   "outputs": [],
   "source": [
    "# Dataset shape\n",
    "df.shape"
   ]
  },
  {
   "cell_type": "code",
   "execution_count": null,
   "metadata": {
    "colab": {
     "base_uri": "https://localhost:8080/",
     "height": 258
    },
    "id": "_ij_EoH2GIyO",
    "outputId": "549db58f-9c95-478f-8764-f57526b888c1"
   },
   "outputs": [],
   "source": [
    "# Dataset sample\n",
    "df.head()\n"
   ]
  },
  {
   "cell_type": "code",
   "execution_count": null,
   "metadata": {
    "colab": {
     "base_uri": "https://localhost:8080/"
    },
    "id": "IO8wJZUOGIyP",
    "outputId": "be6d7733-722d-46bd-fc39-0b1a97a489ff"
   },
   "outputs": [],
   "source": [
    "# Columns\n",
    "df.columns"
   ]
  },
  {
   "cell_type": "markdown",
   "metadata": {
    "id": "HU4u6QoVGIyP"
   },
   "source": [
    "## Exploratory Analysis Before Cleaning"
   ]
  },
  {
   "cell_type": "code",
   "execution_count": null,
   "metadata": {
    "colab": {
     "base_uri": "https://localhost:8080/"
    },
    "id": "v-goSdrzGIyP",
    "outputId": "6b06bb76-e425-4ebf-950c-7eb96fc7642e"
   },
   "outputs": [],
   "source": [
    "# Info\n",
    "df.info()"
   ]
  },
  {
   "cell_type": "code",
   "execution_count": null,
   "metadata": {
    "colab": {
     "base_uri": "https://localhost:8080/",
     "height": 500
    },
    "id": "O1-mykGzGIyP",
    "outputId": "4a6908a2-4596-4b2f-814a-322f227c59fd"
   },
   "outputs": [],
   "source": [
    "# Are any there missing values?\n",
    "df.isna().any()"
   ]
  },
  {
   "cell_type": "code",
   "execution_count": null,
   "metadata": {
    "colab": {
     "base_uri": "https://localhost:8080/",
     "height": 500
    },
    "id": "WBh020iwGIyP",
    "outputId": "709c4b81-cb2a-4c77-8866-001be3f67176"
   },
   "outputs": [],
   "source": [
    "# How many missing values?\n",
    "df.isna().sum()"
   ]
  },
  {
   "cell_type": "code",
   "execution_count": null,
   "metadata": {
    "colab": {
     "base_uri": "https://localhost:8080/"
    },
    "id": "P0e6DF5GGIyQ",
    "outputId": "397dcc4c-ce70-4b30-e05b-05c338088332"
   },
   "outputs": [],
   "source": [
    "# Sum of missing values per column\n",
    "missing_values = df.isna().sum()\n",
    "\n",
    "# Total number of rows\n",
    "total_rows = len(df)\n",
    "\n",
    "# Proportion of missing values per column\n",
    "missing_value_proportion = missing_values / total_rows\n",
    "\n",
    "print(missing_value_proportion)"
   ]
  }
 ],
 "metadata": {
  "colab": {
   "provenance": []
  },
  "kernelspec": {
   "display_name": ".venv",
   "language": "python",
   "name": "python3"
  },
  "language_info": {
   "codemirror_mode": {
    "name": "ipython",
    "version": 3
   },
   "file_extension": ".py",
   "mimetype": "text/x-python",
   "name": "python",
   "nbconvert_exporter": "python",
   "pygments_lexer": "ipython3",
   "version": "3.13.0"
  }
 },
 "nbformat": 4,
 "nbformat_minor": 0
}
